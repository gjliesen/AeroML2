{
 "cells": [
  {
   "cell_type": "code",
   "execution_count": 11,
   "metadata": {},
   "outputs": [
    {
     "name": "stdout",
     "output_type": "stream",
     "text": [
      "WARNING:tensorflow:From c:\\Users\\gjlie\\anaconda3\\Lib\\site-packages\\keras\\src\\losses.py:2976: The name tf.losses.sparse_softmax_cross_entropy is deprecated. Please use tf.compat.v1.losses.sparse_softmax_cross_entropy instead.\n",
      "\n"
     ]
    }
   ],
   "source": [
    "import numpy as np\n",
    "import tensorflow as tf\n",
    "import keras"
   ]
  },
  {
   "cell_type": "code",
   "execution_count": 13,
   "metadata": {},
   "outputs": [
    {
     "name": "stdout",
     "output_type": "stream",
     "text": [
      "Model: \"sequential_1\"\n",
      "_________________________________________________________________\n",
      " Layer (type)                Output Shape              Param #   \n",
      "=================================================================\n",
      " simple_rnn_6 (SimpleRNN)    (None, None, 13)          351       \n",
      "                                                                 \n",
      " simple_rnn_7 (SimpleRNN)    (None, None, 20)          680       \n",
      "                                                                 \n",
      " simple_rnn_8 (SimpleRNN)    (None, None, 20)          820       \n",
      "                                                                 \n",
      " simple_rnn_9 (SimpleRNN)    (None, None, 20)          820       \n",
      "                                                                 \n",
      " simple_rnn_10 (SimpleRNN)   (None, None, 20)          820       \n",
      "                                                                 \n",
      " simple_rnn_11 (SimpleRNN)   (None, None, 20)          820       \n",
      "                                                                 \n",
      " dense_1 (Dense)             (None, None, 13)          273       \n",
      "                                                                 \n",
      "=================================================================\n",
      "Total params: 4584 (17.91 KB)\n",
      "Trainable params: 4584 (17.91 KB)\n",
      "Non-trainable params: 0 (0.00 Byte)\n",
      "_________________________________________________________________\n"
     ]
    }
   ],
   "source": [
    "def rnn_model(depth=6, width=20, act_fn='tanh'):\n",
    "    \"\"\"Generate a sequence-vector model for predicting aircraft simulation\n",
    "\n",
    "    Args:\n",
    "        depth (int, optional): _description_. Defaults to 6.\n",
    "        width (int, optional): _description_. Defaults to 20.\n",
    "        act_fn (str, optional): _description_. Defaults to 'tanh'.\n",
    "    \"\"\"\n",
    "    model = keras.Sequential()\n",
    "    model.add(keras.layers.SimpleRNN(13, return_sequences=True, input_shape=[None, 13]))\n",
    "    for i in range(depth - 1):\n",
    "        model.add(keras.layers.SimpleRNN(width, return_sequences=True))\n",
    "    model.add(keras.layers.Dense(13))\n",
    "    model.compile(optimizer='adam', loss='mse')\n",
    "    return model\n",
    "\n",
    "model = rnn_model()\n",
    "model.summary()"
   ]
  },
  {
   "cell_type": "code",
   "execution_count": null,
   "metadata": {},
   "outputs": [],
   "source": []
  },
  {
   "cell_type": "markdown",
   "metadata": {},
   "source": []
  }
 ],
 "metadata": {
  "kernelspec": {
   "display_name": "base",
   "language": "python",
   "name": "python3"
  },
  "language_info": {
   "codemirror_mode": {
    "name": "ipython",
    "version": 3
   },
   "file_extension": ".py",
   "mimetype": "text/x-python",
   "name": "python",
   "nbconvert_exporter": "python",
   "pygments_lexer": "ipython3",
   "version": "3.11.5"
  }
 },
 "nbformat": 4,
 "nbformat_minor": 2
}
