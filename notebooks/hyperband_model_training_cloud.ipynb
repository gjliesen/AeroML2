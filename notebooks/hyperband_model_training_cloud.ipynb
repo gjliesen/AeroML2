{
 "cells": [
  {
   "cell_type": "code",
   "execution_count": 5,
   "metadata": {},
   "outputs": [],
   "source": [
    "# Library imports\n",
    "from datetime import datetime\n",
    "from ..sim_data_engine import SimDataEngine\n",
    "from ..sim_network_engine import SimNetworkEngine\n",
    "from ..sim_test_engine import SimTestEngine"
   ]
  },
  {
   "cell_type": "code",
   "execution_count": 6,
   "metadata": {},
   "outputs": [],
   "source": [
    "# Create the directories needed to store model data\n",
    "SimNetworkEngine.create_directories()"
   ]
  },
  {
   "cell_type": "code",
   "execution_count": null,
   "metadata": {},
   "outputs": [
    {
     "name": "stdout",
     "output_type": "stream",
     "text": [
      "Trial 1 Complete [00h 06m 49s]\n",
      "\n",
      "Best val_loss So Far: None\n",
      "Total elapsed time: 00h 06m 49s\n",
      "\n",
      "Search: Running Trial #2\n",
      "\n",
      "Value             |Best Value So Far |Hyperparameter\n",
      "46                |40                |dense_width\n",
      "12                |12                |depth\n",
      "tanh              |sigmoid           |dense_act_fn\n",
      "3.1165e-07        |2e-06             |reg_param\n",
      "glorot_normal     |glorot_uniform    |dense_kernel\n",
      "random_uniform    |random_uniform    |dense_bias\n",
      "0.001             |0.0001            |learning_rate\n",
      "2                 |2                 |tuner/epochs\n",
      "0                 |0                 |tuner/initial_epoch\n",
      "2                 |2                 |tuner/bracket\n",
      "0                 |0                 |tuner/round\n",
      "\n",
      "Epoch 1/2\n",
      "   3446/Unknown - 101s 28ms/step - loss: 0.1383 - mse: 0.0221"
     ]
    }
   ],
   "source": [
    "date_str = datetime.now().strftime(\"%m%d%Y_%H%M%S\")\n",
    "project_name = f\"{date_str}_aircraft_sim\"\n",
    "batch_size = 2048\n",
    "\n",
    "# Load the training and validation datasets\n",
    "train_dataset = SimDataEngine.load_dataset(\"Train\").cache().batch(batch_size)\n",
    "val_dataset = SimDataEngine.load_dataset(\"Val\").cache().batch(batch_size)\n",
    "\n",
    "# Specifying non-default hyperparameters\n",
    "loss_fn = SimNetworkEngine.root_mean_squared_error\n",
    "activation_functions = [\"relu\", \"tanh\", \"sigmoid\"]\n",
    "# Initialize the hypermodel function\n",
    "hypermodel_fn = SimNetworkEngine.get_hypermodel_fn(loss_fn, activation_functions)\n",
    "# tune the hypermodel\n",
    "tuner = SimNetworkEngine.build_tuner(\n",
    "    hypermodel_fn, \"hyperband\", project_name, max_epochs=10\n",
    ")\n",
    "tuner = SimNetworkEngine.tune_model(tuner, train_dataset, val_dataset, es_patience=4)"
   ]
  },
  {
   "cell_type": "code",
   "execution_count": null,
   "metadata": {},
   "outputs": [],
   "source": [
    "SimNetworkEngine.eval_tuner(tuner)"
   ]
  },
  {
   "cell_type": "code",
   "execution_count": null,
   "metadata": {},
   "outputs": [],
   "source": [
    "hypermodel, history = SimNetworkEngine.train_tuned_model(\n",
    "    train_dataset, val_dataset, epochs=20, tuner=tuner, model_name=\"aircraft_sim_0\"\n",
    ")\n",
    "SimNetworkEngine.plot_network_history(history)"
   ]
  },
  {
   "cell_type": "code",
   "execution_count": null,
   "metadata": {},
   "outputs": [],
   "source": [
    "hypermodel, history = SimNetworkEngine.train_tuned_model(\n",
    "    train_dataset,\n",
    "    val_dataset,\n",
    "    epochs=20,\n",
    "    tuner=tuner,\n",
    "    model_name=\"aircraft_sim_1\",\n",
    "    tuner_trial=1,\n",
    ")\n",
    "SimNetworkEngine.plot_network_history(history)"
   ]
  },
  {
   "cell_type": "code",
   "execution_count": null,
   "metadata": {},
   "outputs": [],
   "source": [
    "hypermodel, history = SimNetworkEngine.train_tuned_model(\n",
    "    train_dataset,\n",
    "    val_dataset,\n",
    "    epochs=20,\n",
    "    tuner=tuner,\n",
    "    model_name=\"aircraft_sim_2\",\n",
    "    tuner_trial=2,\n",
    ")\n",
    "SimNetworkEngine.plot_network_history(history)"
   ]
  },
  {
   "cell_type": "code",
   "execution_count": null,
   "metadata": {},
   "outputs": [],
   "source": [
    "hypermodel, history = SimNetworkEngine.train_tuned_model(\n",
    "    train_dataset,\n",
    "    val_dataset,\n",
    "    epochs=20,\n",
    "    tuner=tuner,\n",
    "    model_name=\"aircraft_sim_3\",\n",
    "    tuner_trial=3,\n",
    ")\n",
    "SimNetworkEngine.plot_network_history(history)"
   ]
  },
  {
   "cell_type": "code",
   "execution_count": null,
   "metadata": {},
   "outputs": [],
   "source": [
    "hypermodel, history = SimNetworkEngine.train_tuned_model(\n",
    "    train_dataset,\n",
    "    val_dataset,\n",
    "    epochs=20,\n",
    "    tuner=tuner,\n",
    "    model_name=\"aircraft_sim_4\",\n",
    "    tuner_trial=4,\n",
    ")\n",
    "SimNetworkEngine.plot_network_history(history)"
   ]
  },
  {
   "cell_type": "code",
   "execution_count": null,
   "metadata": {},
   "outputs": [],
   "source": [
    "test_engine = SimTestEngine()\n",
    "test_engine.test_model(hypermodel)"
   ]
  }
 ],
 "metadata": {
  "kernelspec": {
   "display_name": "Python 3 (ipykernel)",
   "language": "python",
   "name": "python3"
  },
  "language_info": {
   "codemirror_mode": {
    "name": "ipython",
    "version": 3
   },
   "file_extension": ".py",
   "mimetype": "text/x-python",
   "name": "python",
   "nbconvert_exporter": "python",
   "pygments_lexer": "ipython3",
   "version": "3.10.12"
  }
 },
 "nbformat": 4,
 "nbformat_minor": 2
}
